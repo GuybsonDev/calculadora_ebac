{
 "cells": [
  {
   "cell_type": "markdown",
   "metadata": {},
   "source": [
    "# Calculadora\n",
    "### Atividade solicitada pelo curso Analista de Dados da EBAC"
   ]
  },
  {
   "cell_type": "code",
   "execution_count": 1,
   "metadata": {},
   "outputs": [],
   "source": [
    "# Função base para realizar o calculo\n",
    "def realiza_calculo(valor1, valor2, tipo_calculo):\n",
    "    if tipo_calculo == 'Divisão':\n",
    "        valor_total = valor1 / valor2\n",
    "    elif tipo_calculo == 'Multiplicação':\n",
    "        valor_total = valor1 * valor2\n",
    "    elif tipo_calculo == 'Soma':\n",
    "        valor_total = valor1 + valor2\n",
    "    elif tipo_calculo == 'Subtração':\n",
    "        valor_total = valor1 / valor2\n",
    "    else:\n",
    "        valor_total = None\n",
    "\n",
    "    return valor_total    "
   ]
  },
  {
   "cell_type": "code",
   "execution_count": 2,
   "metadata": {},
   "outputs": [],
   "source": [
    "# Loop principal\n",
    "while True:\n",
    "    nome_usuario = input('Insira o seu nome (ou digite \"sair\" para encerrar): ')\n",
    "    if nome_usuario.strip().lower() == 'sair':\n",
    "        print(\"Calculadora encerrada. Até logo!\")\n",
    "        break\n",
    "\n",
    "    tipo_calculo = ['Divisão', 'Multiplicação', 'Soma', 'Subtração']\n",
    "    print('Qual tipo de cálculo deseja realizar?')\n",
    "    for calculo in tipo_calculo:\n",
    "        print(calculo)\n",
    "\n",
    "    # Verifica se a opção escolhida é válida\n",
    "    while True:\n",
    "        calculo_selecionado = input('Escolha uma opção (ou digite \"sair\" para encerrar): ').capitalize()\n",
    "        if calculo_selecionado.lower() == 'sair':\n",
    "            print(\"Calculadora encerrada. Até logo!\")\n",
    "            exit()  # Encerra imediatamente\n",
    "        if calculo_selecionado not in tipo_calculo:\n",
    "            print('Opção incorreta. Digite apenas uma das opções.')\n",
    "        else:\n",
    "            break\n",
    "\n",
    "    # Loop para entrada de números\n",
    "    while True:\n",
    "        try:\n",
    "            numero_1 = input('Primeiro valor (ou digite \"sair\" para encerrar): ')\n",
    "            if numero_1.lower() == 'sair':\n",
    "                print(\"Calculadora encerrada. Até logo!\")\n",
    "                exit()\n",
    "            numero_1 = int(numero_1)\n",
    "\n",
    "            numero_2 = input('Segundo valor (ou digite \"sair\" para encerrar): ')\n",
    "            if numero_2.lower() == 'sair':\n",
    "                print(\"Programa encerrado. Até logo!\")\n",
    "                exit()\n",
    "            numero_2 = int(numero_2)\n",
    "\n",
    "            break  # Saindo do loop caso a conversão seja bem-sucedida\n",
    "        except ValueError:\n",
    "            print('Você digitou um dos números incorretamente. Tente novamente.')\n",
    "\n",
    "    # Realizando o cálculo\n",
    "    resultado = realiza_calculo(numero_1, numero_2, calculo_selecionado)\n",
    "    print(f'{nome_usuario}, o resultado da {calculo_selecionado} é: {resultado}')\n",
    "\n",
    "    # Perguntando se o usuário deseja continuar\n",
    "    continua_ou_nao = input('Deseja realizar outro cálculo? (S/N): ').strip().upper()\n",
    "    if continua_ou_nao != 'S':\n",
    "        print(\"Calculadora encerrada. Até logo!\")\n",
    "        break"
   ]
  }
 ],
 "metadata": {
  "kernelspec": {
   "display_name": "Python 3",
   "language": "python",
   "name": "python3"
  },
  "language_info": {
   "codemirror_mode": {
    "name": "ipython",
    "version": 3
   },
   "file_extension": ".py",
   "mimetype": "text/x-python",
   "name": "python",
   "nbconvert_exporter": "python",
   "pygments_lexer": "ipython3",
   "version": "3.12.2"
  }
 },
 "nbformat": 4,
 "nbformat_minor": 2
}
